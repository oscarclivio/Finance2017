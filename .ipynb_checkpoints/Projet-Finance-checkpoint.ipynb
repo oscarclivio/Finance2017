{
 "cells": [
  {
   "cell_type": "markdown",
   "metadata": {
    "deletable": true,
    "editable": true
   },
   "source": [
    "# Learning from the crowd"
   ]
  },
  {
   "cell_type": "code",
   "execution_count": 99,
   "metadata": {
    "collapsed": false
   },
   "outputs": [],
   "source": [
    "# Modules importés\n",
    "\n",
    "import numpy as np\n",
    "import matplotlib.pyplot as plt\n",
    "from scipy.optimize import minimize\n",
    "from math import erf\n",
    "from scipy.stats import norm\n",
    "\n"
   ]
  },
  {
   "cell_type": "code",
   "execution_count": 214,
   "metadata": {
    "collapsed": false
   },
   "outputs": [],
   "source": [
    "def MouvementBrownien(t):\n",
    "    if t>0.0:\n",
    "        valeur_proba=np.random.normal(0,np.sqrt(t))\n",
    "        return valeur_proba \n",
    "    else:\n",
    "        return 0\n",
    "    \n",
    "#retourne la valeur de l'actif risqué \n",
    "def calcul_actif(S0,sigma,r,t):\n",
    "    Wt=MouvementBrownien(t)\n",
    "    valeur_actif=S0*np.exp(sigma*Wt+(r - sigma**2 / 2)*t)\n",
    "    return valeur_actif\n",
    "\n",
    "\n",
    "def payoff(K,liste_sigma,r,liste_S0,T,liste_an):\n",
    "    Sum=0\n",
    "    for i in range(len(liste_sigma)):\n",
    "        Sum=Sum+calcul_actif(liste_S0[i],liste_sigma[i],r,T)*liste_an[i]\n",
    "    return max(K-Sum,0)\n",
    "\n",
    "def payoffProd(K,liste_sigma,r,liste_S0,T,liste_an):\n",
    "    Prod=1\n",
    "    for i in range(len(liste_sigma)):\n",
    "        Prod=Prod*np.exp(liste_an[i]*np.log(calcul_actif(liste_S0[i],liste_sigma[i],r,T)));\n",
    "    return max(K-Prod,0)\n",
    "\n",
    "def prixExpliciteGeometrique(K,liste_sigma,r,liste_S0,T,liste_an):\n",
    "    \n",
    "    def normal(x):\n",
    "        return norm.cdf(x);\n",
    "    \n",
    "    Esp = liste_an.T.dot(np.log(liste_S0) - liste_sigma**2 * T/2) + r*T;\n",
    "    Std = np.sqrt(T*(liste_an**2).dot(liste_sigma**2));\n",
    "    \n",
    "    d = (np.log(K) - Esp) / Std;\n",
    "    \n",
    "    return np.exp(-r*T)*(K*normal(d) - np.exp(Esp + Std**2 / 2.) * normal(d - Std));\n",
    "        \n",
    "def varianceExpliciteGeometrique(K,liste_sigma,r,liste_S0,T,liste_an):\n",
    "    \n",
    "    def normal(x):\n",
    "        return norm.cdf(x);\n",
    "    \n",
    "    Esp = liste_an.T.dot(np.log(liste_S0) - liste_sigma**2 * T/2) + r*T;\n",
    "    Std = np.sqrt(T*(liste_an**2).dot(liste_sigma**2));\n",
    "    \n",
    "    d = (np.log(K) - Esp) / Std;\n",
    "    \n",
    "    return np.exp(-2*r*T)*(K**2 * normal(d) + np.exp(2*Esp + 2*Std**2) * normal(d - 2*Std) - 2*K*np.exp(Esp + Std**2 / 2.) * normal(d - Std)) - prixExpliciteGeometrique(K,liste_sigma,r,liste_S0,T,liste_an)**2;\n",
    "        \n"
   ]
  },
  {
   "cell_type": "code",
   "execution_count": 215,
   "metadata": {
    "collapsed": false,
    "deletable": true,
    "editable": true,
    "scrolled": true
   },
   "outputs": [
    {
     "data": {
      "image/png": "[encoded data removed]",
      "text/plain": [
       "<matplotlib.figure.Figure at 0xb36f320>"
      ]
     },
     "metadata": {},
     "output_type": "display_data"
    }
   ],
   "source": [
    "#Trajectoire du mouvement brownien\n",
    "vecteur_x=np.linspace(0,1,200)\n",
    "vecteur_y=[]\n",
    "for i in range(200):\n",
    "    vecteur_y.append(MouvementBrownien(vecteur_x[i]))\n",
    "    \n",
    "\n",
    "plt.plot(vecteur_x,vecteur_y)\n",
    "plt.show()"
   ]
  },
  {
   "cell_type": "code",
   "execution_count": 216,
   "metadata": {
    "collapsed": false
   },
   "outputs": [],
   "source": [
    "an=np.array([1./5.]*5);\n",
    "S0=np.array([10,20,30,40,50]);\n",
    "K=max(np.prod(np.exp(np.log(S0)/5.)),an.T.dot(S0))\n",
    "N=50000\n",
    "r=0.05\n",
    "sigma=np.array([0.1,0.05,0.06,0.07,0.1]);\n",
    "T=1.0\n",
    "\n",
    "\n",
    "def realisationsMonteCarloArith(K,sigma,r,S0,T,an,N):\n",
    "    realisations = []\n",
    "    for i in range(N):\n",
    "        realisations.append(np.exp(-r*T)*payoff(K,sigma,r,S0,T,an))\n",
    "    return np.array(realisations)\n",
    "\n",
    "def realisationsMonteCarloGeo(K,sigma,r,S0,T,an,N):\n",
    "    realisations = []\n",
    "    for i in range(N):\n",
    "        realisations.append(np.exp(-r*T)*payoffProd(K,sigma,r,S0,T,an))\n",
    "    return np.array(realisations)\n",
    "\n",
    "def estimateurMonteCarlo(realisations):\n",
    "    return realisations.mean();\n",
    "\n",
    "\n",
    "def estimateurVarianceMonteCarlo(realisations, estimateurEsperance):\n",
    "    return (realisations**2).mean() - estimateurEsperance**2;\n",
    "\n",
    "def estimateurVarianceReduiteMonteCarlo(realisationsGeo, realisationsArith, estimateurbn, prixExactGeo, estimateurEsperance):\n",
    "    return ((realisationsArith + estimateurbn*(realisationsGeo - prixExactGeo))**2).mean() - estimateurEsperance**2;\n",
    "\n",
    "def estimateur_bn(realisationsGeo,realisationsArith,prixExactGeo,estimateurArith):\n",
    "    diffGeo = realisationsGeo - prixExactGeo;\n",
    "    return diffGeo.T.dot(realisationsArith-estimateurArith)/np.sum(diffGeo**2)\n",
    "\n",
    "def estimateurTotal(realisationsGeo,realisationsArith,prixExactGeo):\n",
    "    estimateurGeo = estimateurMonteCarlo(realisationsGeo);\n",
    "    estimateurArith = estimateurMonteCarlo(realisationsArith);\n",
    "    estimateurbn = estimateur_bn(realisationsGeo,prixExpliciteGeometrique(K,liste_sigma,r,liste_S0,T,liste_an))\n",
    "    return estimateurArith + estimateurbn*(estimateurGeo - prixExactGeo)\n",
    "\n",
    "def reductionVariance(K,sigma,r,S0,T,an,N):\n",
    "    realisationsArith = realisationsMonteCarloArith(K,sigma,r,S0,T,an,N)\n",
    "    realisationsGeo = realisationsMonteCarloGeo(K,sigma,r,S0,T,an,N);\n",
    "    prixExactGeo = prixExpliciteGeometrique(K,sigma,r,S0,T,an)\n",
    "    varianceExacteGeo = varianceExpliciteGeometrique(K,sigma,r,S0,T,an)\n",
    "    \n",
    "    esperanceInitiale = estimateurMonteCarlo(realisationsArith);\n",
    "    estimateurbn = estimateur_bn(realisationsGeo,realisationsArith,prixExactGeo,esperanceInitiale)\n",
    "    esperanceReduite = esperanceInitiale + estimateurbn*(estimateurMonteCarlo(realisationsGeo) - prixExactGeo)\n",
    "    \n",
    "\n",
    "    print(estimateurbn)\n",
    "    print(estimateurVarianceMonteCarlo(realisationsGeo, estimateurMonteCarlo(realisationsGeo)))\n",
    "    print(varianceExacteGeo)\n",
    "    \n",
    "    varianceInitiale = estimateurVarianceMonteCarlo(realisationsArith, esperanceInitiale)\n",
    "    varianceReduite = varianceInitiale*(1-estimateurbn**2*varianceExacteGeo/varianceInitiale);\n",
    "    \n",
    "    print(\"Esperance initiale: \", esperanceInitiale)\n",
    "    print(\"Esperance réduite: \", esperanceReduite)\n",
    "    print(\"Variance initiale: \", varianceInitiale)\n",
    "    print(\"Variance réduite: \", varianceReduite)\n",
    "    \n",
    "    \n",
    "\n",
    "def simulation_monte_carlo(N):\n",
    "    Sum=0\n",
    "    for i in range(N):\n",
    "        Sum+=payoff(K,sigma,r,S0,T,an)\n",
    "    return np.exp(-r*T)*Sum/N\n",
    "\n",
    "def simulation_monte_carlo_Prod(N):\n",
    "    Sum=0\n",
    "    for i in range(N):\n",
    "        Sum+=payoffProd(K,sigma,r,S0,T,an)\n",
    "    return np.exp(-r*T)*Sum/N\n"
   ]
  },
  {
   "cell_type": "code",
   "execution_count": 218,
   "metadata": {
    "collapsed": false
   },
   "outputs": [
    {
     "name": "stdout",
     "output_type": "stream",
     "text": [
      "2.55086572083\n",
      "0.0637714495556\n",
      "-9.51377742344e-05\n",
      "0.831939108604\n",
      "0.831303113815\n",
      "('Esperance initiale: ', 0.063894528369809744)\n",
      "('Esperance r\\xc3\\xa9duite: ', 0.063894585259546832)\n",
      "('Variance initiale: ', 0.056154745102340003)\n",
      "('Variance r\\xc3\\xa9duite: ', 0.056154737578052519)\n"
     ]
    }
   ],
   "source": [
    "print(prixExpliciteGeometrique(K,sigma,r,S0,T,an))\n",
    "print(simulation_monte_carlo(N))\n",
    "reductionVariance(K,sigma,r,S0,T,an,N)"
   ]
  },
  {
   "cell_type": "code",
   "execution_count": null,
   "metadata": {
    "collapsed": false
   },
   "outputs": [],
   "source": []
  },
  {
   "cell_type": "code",
   "execution_count": null,
   "metadata": {
    "collapsed": false
   },
   "outputs": [],
   "source": []
  },
  {
   "cell_type": "code",
   "execution_count": null,
   "metadata": {
    "collapsed": false
   },
   "outputs": [],
   "source": []
  },
  {
   "cell_type": "code",
   "execution_count": null,
   "metadata": {
    "collapsed": false
   },
   "outputs": [],
   "source": [
    "\n",
    "\n"
   ]
  },
  {
   "cell_type": "code",
   "execution_count": null,
   "metadata": {
    "collapsed": true
   },
   "outputs": [],
   "source": []
  },
  {
   "cell_type": "code",
   "execution_count": null,
   "metadata": {
    "collapsed": true
   },
   "outputs": [],
   "source": []
  }
 ],
 "metadata": {
  "kernelspec": {
   "display_name": "Python 2",
   "language": "python",
   "name": "python2"
  },
  "language_info": {
   "codemirror_mode": {
    "name": "ipython",
    "version": 2
   },
   "file_extension": ".py",
   "mimetype": "text/x-python",
   "name": "python",
   "nbconvert_exporter": "python",
   "pygments_lexer": "ipython2",
   "version": "2.7.13"
  }
 },
 "nbformat": 4,
 "nbformat_minor": 2
}
